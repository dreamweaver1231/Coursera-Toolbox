{
 "cells": [
  {
   "cell_type": "code",
   "execution_count": 24,
   "metadata": {},
   "outputs": [
    {
     "name": "stdout",
     "output_type": "stream",
     "text": [
      "20\n",
      "6765\n",
      "CPU times: user 182 µs, sys: 128 µs, total: 310 µs\n",
      "Wall time: 265 µs\n"
     ]
    }
   ],
   "source": [
    "# Uses python3\n",
    "def calc_fib(n, memo={}):\n",
    "    \n",
    "    if n in memo:\n",
    "        return memo[n]\n",
    "    if (n <= 1):\n",
    "        return n\n",
    "\n",
    "    memo[n] = calc_fib(n - 1) + calc_fib(n - 2)\n",
    "    return memo[n]\n",
    "\n",
    "n = int(input())\n",
    "%time print(calc_fib(n))"
   ]
  },
  {
   "cell_type": "code",
   "execution_count": null,
   "metadata": {
    "collapsed": true
   },
   "outputs": [],
   "source": []
  }
 ],
 "metadata": {
  "kernelspec": {
   "display_name": "Python 3",
   "language": "python",
   "name": "python3"
  }
 },
 "nbformat": 4,
 "nbformat_minor": 2
}
