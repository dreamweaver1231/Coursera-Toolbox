{
 "cells": [
  {
   "cell_type": "code",
   "execution_count": 79,
   "metadata": {},
   "outputs": [
    {
     "name": "stdout",
     "output_type": "stream",
     "text": [
      "239 1000\n",
      "161\n",
      "CPU times: user 1.91 ms, sys: 132 µs, total: 2.04 ms\n",
      "Wall time: 2 ms\n"
     ]
    }
   ],
   "source": [
    "# Uses python3\n",
    "\n",
    "def get_sequence(m):\n",
    "    previous       = 0\n",
    "    current        = 1\n",
    "    arr            = [0, 1]\n",
    "\n",
    "    while True:\n",
    "        previous, current = current, previous + current\n",
    "\n",
    "        arr.append(current % m)\n",
    "        width = len(arr)\n",
    "        if(arr[width - 2] == 0 and arr[width - 1] == 1):\n",
    "            return arr[: -2];\n",
    "\n",
    "def get_fibonacci_huge_naive(n, m):\n",
    "    if n <= 1:\n",
    "        return n\n",
    "    seq = get_sequence(m)\n",
    "    return seq[n % len(seq)]\n",
    "\n",
    "\n",
    "if __name__ == '__main__':\n",
    "    data = input();\n",
    "    n, m = map(int, data.split())\n",
    "    %time print(get_fibonacci_huge_naive(n, m))"
   ]
  },
  {
   "cell_type": "code",
   "execution_count": null,
   "metadata": {
    "collapsed": true
   },
   "outputs": [],
   "source": []
  },
  {
   "cell_type": "code",
   "execution_count": null,
   "metadata": {
    "collapsed": true
   },
   "outputs": [],
   "source": []
  }
 ],
 "metadata": {
  "kernelspec": {
   "display_name": "Python 3",
   "language": "python",
   "name": "python3"
  },
  "language_info": {
   "codemirror_mode": {
    "name": "ipython",
    "version": 3
   },
   "file_extension": ".py",
   "mimetype": "text/x-python",
   "name": "python",
   "nbconvert_exporter": "python",
   "pygments_lexer": "ipython3",
   "version": "3.6.1"
  }
 },
 "nbformat": 4,
 "nbformat_minor": 2
}
