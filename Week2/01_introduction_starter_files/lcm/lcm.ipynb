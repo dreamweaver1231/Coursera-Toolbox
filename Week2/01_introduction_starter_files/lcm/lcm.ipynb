{
 "cells": [
  {
   "cell_type": "code",
   "execution_count": 12,
   "metadata": {},
   "outputs": [
    {
     "name": "stdout",
     "output_type": "stream",
     "text": [
      "226553150 1023473145\n",
      "46374212988031350\n"
     ]
    }
   ],
   "source": [
    "# Uses python3\n",
    "def gcd_naive(a, b):\n",
    "\n",
    "    if b == 0:\n",
    "        return a\n",
    "\n",
    "    a_prime = a % b\n",
    "    return gcd_naive(b, a_prime)\n",
    "\n",
    "if __name__ == \"__main__\":\n",
    "    n = input()\n",
    "    a, b = map(int, n.split())\n",
    "    print(((a*b)//(gcd_naive(a, b))))\n"
   ]
  },
  {
   "cell_type": "code",
   "execution_count": null,
   "metadata": {
    "collapsed": true
   },
   "outputs": [],
   "source": []
  }
 ],
 "metadata": {
  "kernelspec": {
   "display_name": "Python 3",
   "language": "python",
   "name": "python3"
  },
  "language_info": {
   "codemirror_mode": {
    "name": "ipython",
    "version": 3
   },
   "file_extension": ".py",
   "mimetype": "text/x-python",
   "name": "python",
   "nbconvert_exporter": "python",
   "pygments_lexer": "ipython3",
   "version": "3.6.1"
  }
 },
 "nbformat": 4,
 "nbformat_minor": 2
}
