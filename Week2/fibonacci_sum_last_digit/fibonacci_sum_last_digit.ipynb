{
 "cells": [
  {
   "cell_type": "code",
   "execution_count": null,
   "metadata": {},
   "outputs": [],
   "source": [
    "# Uses python3\n",
    "\n",
    "def fibonacci_sum_naive(n):\n",
    "    if n <= 1:\n",
    "        return n\n",
    "\n",
    "    previous = 0\n",
    "    current  = 1\n",
    "    sum      = 1\n",
    "\n",
    "    for _ in range(n - 1):\n",
    "        previous, current = current, (previous + current) % 10\n",
    "        sum = sum % 10\n",
    "        sum += current\n",
    "\n",
    "    return sum % 10\n",
    "\n",
    "if __name__ == '__main__':\n",
    "    n = int(input())\n",
    "    %time print(fibonacci_sum_naive(n))"
   ]
  },
  {
   "cell_type": "code",
   "execution_count": null,
   "metadata": {
    "collapsed": true
   },
   "outputs": [],
   "source": [
    ""
   ]
  }
 ],
 "metadata": {
  "kernelspec": {
   "display_name": "Python 3",
   "language": "python",
   "name": "python3"
  },
  "language_info": {
   "codemirror_mode": {
    "name": "ipython",
    "version": 3.0
   },
   "file_extension": ".py",
   "mimetype": "text/x-python",
   "name": "python",
   "nbconvert_exporter": "python",
   "pygments_lexer": "ipython3",
   "version": "3.6.1"
  }
 },
 "nbformat": 4,
 "nbformat_minor": 0
}