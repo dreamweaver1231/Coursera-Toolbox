{
 "cells": [
  {
   "cell_type": "code",
   "execution_count": 47,
   "metadata": {},
   "outputs": [
    {
     "name": "stdout",
     "output_type": "stream",
     "text": [
      "10 2\n",
      "[0, 1, 1]\n",
      "1\n",
      "CPU times: user 401 µs, sys: 202 µs, total: 603 µs\n",
      "Wall time: 488 µs\n"
     ]
    }
   ],
   "source": [
    "# Uses python3\n",
    "\n",
    "def get_sequence(m):\n",
    "    previous       = 0\n",
    "    current        = 1\n",
    "    arr            = [0, 1]\n",
    "\n",
    "    while True:\n",
    "        previous, current = current, previous + current\n",
    "\n",
    "        arr.append(current % m)\n",
    "        width = len(arr)\n",
    "        if(arr[width - 2] == 0 and arr[width - 1] == 1):\n",
    "            return arr[: -2];\n",
    "\n",
    "def get_fibonacci_huge_naive(n, m):\n",
    "    if n <= 1:\n",
    "        return n\n",
    "    seq = get_sequence(m)\n",
    "    return seq[n % len(seq)]\n",
    "\n",
    "\n",
    "if __name__ == '__main__':\n",
    "    data = input();\n",
    "    n, m = map(int, data.split())\n",
    "    %time print(get_fibonacci_huge_naive(n, m))"
   ]
  },
  {
   "cell_type": "code",
   "execution_count": 79,
   "metadata": {},
   "outputs": [
    {
     "name": "stdout",
     "output_type": "stream",
     "text": [
      "([0, 1, 1, 0, 1], 6, 3)\n"
     ]
    }
   ],
   "source": [
    "# Uses python3\n",
    "\n",
    "def get_sequence(m):\n",
    "    previous       = 0\n",
    "    current        = 1\n",
    "    arr            = [0, 1]\n",
    "    sum            = 0\n",
    "    two_sum        = 0\n",
    "\n",
    "    while True:\n",
    "        if(arr[len(arr) - 2] == 0 and arr[len(arr) - 1] == 1 and len(arr) != 2):\n",
    "            return arr, sum, two_sum;\n",
    "        \n",
    "        two_sum = previous + current\n",
    "        previous, current = current, previous + current\n",
    "        sum = sum + current\n",
    "        arr.append(current % m)\n",
    "        width = len(arr)\n",
    "        \n",
    "print(get_sequence(2))"
   ]
  },
  {
   "cell_type": "markdown",
   "metadata": {},
   "source": []
  }
 ],
 "metadata": {
  "kernelspec": {
   "display_name": "Python 3",
   "language": "python",
   "name": "python3"
  },
  "language_info": {
   "codemirror_mode": {
    "name": "ipython",
    "version": 3
   },
   "file_extension": ".py",
   "mimetype": "text/x-python",
   "name": "python",
   "nbconvert_exporter": "python",
   "pygments_lexer": "ipython3",
   "version": "3.6.1"
  }
 },
 "nbformat": 4,
 "nbformat_minor": 2
}
